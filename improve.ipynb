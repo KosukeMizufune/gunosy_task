{
 "cells": [
  {
   "cell_type": "markdown",
   "metadata": {},
   "source": [
    "# まずは分析を始める準備から"
   ]
  },
  {
   "cell_type": "code",
   "execution_count": 1,
   "metadata": {
    "collapsed": true
   },
   "outputs": [],
   "source": [
    "from django.conf import settings\n",
    "from sklearn.svm import LinearSVC, SVC\n",
    "from sklearn.model_selection import GridSearchCV, cross_val_score, RandomizedSearchCV\n",
    "from sklearn.naive_bayes import MultinomialNB\n",
    "from sklearn.linear_model import LogisticRegression\n",
    "from sklearn.ensemble import RandomForestClassifier\n",
    "import numpy as np\n",
    "from gensim import corpora, matutils, models\n",
    "from gensim.models import LsiModel\n",
    "import xgboost as xgb\n",
    "import scipy as sp\n",
    "\n",
    "from preprocess import *\n",
    "from utils import get_train_data"
   ]
  },
  {
   "cell_type": "code",
   "execution_count": 2,
   "metadata": {
    "collapsed": true,
    "scrolled": false
   },
   "outputs": [],
   "source": [
    "tags, data = get_train_data()"
   ]
  },
  {
   "cell_type": "code",
   "execution_count": 3,
   "metadata": {
    "scrolled": true
   },
   "outputs": [
    {
     "data": {
      "text/plain": [
       "63437"
      ]
     },
     "execution_count": 3,
     "metadata": {},
     "output_type": "execute_result"
    }
   ],
   "source": [
    "dictionary = corpora.Dictionary(data)\n",
    "len(dictionary)"
   ]
  },
  {
   "cell_type": "markdown",
   "metadata": {},
   "source": [
    "## 1.1特に前処理なしバージョンでモデルを作る"
   ]
  },
  {
   "cell_type": "code",
   "execution_count": 45,
   "metadata": {
    "collapsed": true
   },
   "outputs": [],
   "source": [
    "bow = make_bow(data, dictionary)"
   ]
  },
  {
   "cell_type": "markdown",
   "metadata": {},
   "source": [
    "ナイーブベイズ"
   ]
  },
  {
   "cell_type": "code",
   "execution_count": 5,
   "metadata": {},
   "outputs": [
    {
     "data": {
      "text/plain": [
       "0.86862244897959184"
      ]
     },
     "execution_count": 5,
     "metadata": {},
     "output_type": "execute_result"
    }
   ],
   "source": [
    "params = {'alpha': np.arange(0.1,2,0.1)}\n",
    "grid = GridSearchCV(MultinomialNB(), params, cv=5)\n",
    "grid.fit(bow, tags)\n",
    "grid.best_params_\n",
    "grid.best_score_"
   ]
  },
  {
   "cell_type": "markdown",
   "metadata": {},
   "source": [
    "ロジスティック回帰"
   ]
  },
  {
   "cell_type": "code",
   "execution_count": 7,
   "metadata": {},
   "outputs": [
    {
     "name": "stdout",
     "output_type": "stream",
     "text": [
      "{'penalty': 'l2', 'C': 1}\n",
      "0.861394557823\n"
     ]
    }
   ],
   "source": [
    "params = [{'penalty': ['l1'], 'C': [1,10,100]},\n",
    "        {'penalty': ['l2'], 'C': [1,10,100]}]\n",
    "grid = GridSearchCV(LogisticRegression(), params, cv=5)\n",
    "grid.fit(bow, tags)\n",
    "print(grid.best_params_)\n",
    "print(grid.best_score_)"
   ]
  },
  {
   "cell_type": "markdown",
   "metadata": {},
   "source": [
    "ランダムフォレスト"
   ]
  },
  {
   "cell_type": "code",
   "execution_count": 46,
   "metadata": {
    "scrolled": true
   },
   "outputs": [
    {
     "name": "stdout",
     "output_type": "stream",
     "text": [
      "{'max_features': 'log2', 'n_estimators': 10000}\n",
      "0.831632653061\n"
     ]
    }
   ],
   "source": [
    "params = {'n_estimators': [5, 10, 20, 30, 50, 100, 300, 1000, 10000], \"max_features\": [\"auto\", \"sqrt\", \"log2\"]}\n",
    "grid = GridSearchCV(RandomForestClassifier(), params, cv=5, n_jobs=-1)\n",
    "grid.fit(bow, tags)\n",
    "print(grid.best_params_)\n",
    "print(grid.best_score_)"
   ]
  },
  {
   "cell_type": "markdown",
   "metadata": {},
   "source": [
    "## 2.頻出語・レアワードを削減したモデル"
   ]
  },
  {
   "cell_type": "code",
   "execution_count": 3,
   "metadata": {},
   "outputs": [
    {
     "data": {
      "text/plain": [
       "18584"
      ]
     },
     "execution_count": 3,
     "metadata": {},
     "output_type": "execute_result"
    }
   ],
   "source": [
    "dictionary = corpora.Dictionary(data)\n",
    "dictionary.filter_extremes(no_below=4, no_above=0.6)\n",
    "len(dictionary)"
   ]
  },
  {
   "cell_type": "code",
   "execution_count": 4,
   "metadata": {
    "collapsed": true
   },
   "outputs": [],
   "source": [
    "bow_reduce = make_bow(data, dictionary)"
   ]
  },
  {
   "cell_type": "markdown",
   "metadata": {},
   "source": [
    "ナイーブベイズ"
   ]
  },
  {
   "cell_type": "code",
   "execution_count": 19,
   "metadata": {},
   "outputs": [
    {
     "name": "stdout",
     "output_type": "stream",
     "text": [
      "{'alpha': 0.5}\n",
      "0.876003854802\n"
     ]
    }
   ],
   "source": [
    "params = {'alpha': np.arange(0.1, 2,0.1 )}\n",
    "grid = GridSearchCV(MultinomialNB(), params, cv=5)\n",
    "grid.fit(bow_reduce, tags)\n",
    "print(grid.best_params_)\n",
    "print(grid.best_score_)"
   ]
  },
  {
   "cell_type": "markdown",
   "metadata": {},
   "source": [
    "ロジスティック回帰"
   ]
  },
  {
   "cell_type": "code",
   "execution_count": 15,
   "metadata": {
    "scrolled": true
   },
   "outputs": [
    {
     "name": "stdout",
     "output_type": "stream",
     "text": [
      "{'C': 1, 'penalty': 'l2'}\n",
      "0.863154513331\n"
     ]
    }
   ],
   "source": [
    "params = [{'penalty': ['l1'], 'C': [1,10,100]},\n",
    "        {'penalty': ['l2'], 'C': [1,10,100]}]\n",
    "grid = GridSearchCV(LogisticRegression(), params, cv=5)\n",
    "grid.fit(bow_reduce, tags)\n",
    "print(grid.best_params_)\n",
    "print(grid.best_score_)"
   ]
  },
  {
   "cell_type": "markdown",
   "metadata": {},
   "source": [
    "ランダムフォレスト"
   ]
  },
  {
   "cell_type": "code",
   "execution_count": 6,
   "metadata": {
    "scrolled": true
   },
   "outputs": [
    {
     "name": "stdout",
     "output_type": "stream",
     "text": [
      "{'n_estimators': 10000, 'max_features': 'log2'}\n",
      "0.838419530999\n"
     ]
    }
   ],
   "source": [
    "params = {'n_estimators': [5, 10, 20, 30, 50, 100, 300, 1000, 10000], \"max_features\": [\"auto\", \"sqrt\", \"log2\"]}\n",
    "grid = GridSearchCV(RandomForestClassifier(), params, cv=5, n_jobs=-1)\n",
    "grid.fit(bow_reduce, tags)\n",
    "print(grid.best_params_)\n",
    "print(grid.best_score_)"
   ]
  },
  {
   "cell_type": "markdown",
   "metadata": {},
   "source": [
    "SVM"
   ]
  },
  {
   "cell_type": "code",
   "execution_count": 7,
   "metadata": {},
   "outputs": [
    {
     "name": "stdout",
     "output_type": "stream",
     "text": [
      "{'C': 100, 'kernel': 'rbf', 'gamma': 0.0001}\n",
      "0.841631866367\n"
     ]
    }
   ],
   "source": [
    "params = tuned_parameters = [\n",
    "    {'C': [1, 10, 100, 1000], 'kernel': ['linear']},\n",
    "    {'C': [1, 10, 100, 1000], 'kernel': ['rbf'], 'gamma': [0.001, 0.0001]}]\n",
    "grid = GridSearchCV(SVC(), params, cv=5, n_jobs=-1)\n",
    "grid.fit(bow_reduce, tags)\n",
    "print(grid.best_params_)\n",
    "print(grid.best_score_)"
   ]
  },
  {
   "cell_type": "markdown",
   "metadata": {},
   "source": [
    "xgb"
   ]
  },
  {
   "cell_type": "code",
   "execution_count": 20,
   "metadata": {},
   "outputs": [
    {
     "data": {
      "text/plain": [
       "(3113, 13957)"
      ]
     },
     "execution_count": 20,
     "metadata": {},
     "output_type": "execute_result"
    }
   ],
   "source": [
    "bow_reduce.shape"
   ]
  },
  {
   "cell_type": "code",
   "execution_count": 13,
   "metadata": {
    "scrolled": false
   },
   "outputs": [
    {
     "name": "stderr",
     "output_type": "stream",
     "text": [
      "/Users/kosuke/.virtualenvs/env1/lib/python3.5/site-packages/xgboost-0.6-py3.5.egg/xgboost/sklearn.py:203: DeprecationWarning: The seed parameter is deprecated as of version .6.Please use random_state instead.seed is deprecated.\n",
      "  'seed is deprecated.', DeprecationWarning)\n",
      "/Users/kosuke/.virtualenvs/env1/lib/python3.5/site-packages/xgboost-0.6-py3.5.egg/xgboost/sklearn.py:210: DeprecationWarning: The nthread parameter is deprecated as of version .6.Please use n_jobs instead.nthread is deprecated.\n",
      "  'nthread is deprecated.', DeprecationWarning)\n",
      "/Users/kosuke/.virtualenvs/env1/lib/python3.5/site-packages/xgboost-0.6-py3.5.egg/xgboost/sklearn.py:203: DeprecationWarning: The seed parameter is deprecated as of version .6.Please use random_state instead.seed is deprecated.\n",
      "  'seed is deprecated.', DeprecationWarning)\n",
      "/Users/kosuke/.virtualenvs/env1/lib/python3.5/site-packages/xgboost-0.6-py3.5.egg/xgboost/sklearn.py:210: DeprecationWarning: The nthread parameter is deprecated as of version .6.Please use n_jobs instead.nthread is deprecated.\n",
      "  'nthread is deprecated.', DeprecationWarning)\n",
      "/Users/kosuke/.virtualenvs/env1/lib/python3.5/site-packages/xgboost-0.6-py3.5.egg/xgboost/sklearn.py:203: DeprecationWarning: The seed parameter is deprecated as of version .6.Please use random_state instead.seed is deprecated.\n",
      "  'seed is deprecated.', DeprecationWarning)\n",
      "/Users/kosuke/.virtualenvs/env1/lib/python3.5/site-packages/xgboost-0.6-py3.5.egg/xgboost/sklearn.py:210: DeprecationWarning: The nthread parameter is deprecated as of version .6.Please use n_jobs instead.nthread is deprecated.\n",
      "  'nthread is deprecated.', DeprecationWarning)\n",
      "/Users/kosuke/.virtualenvs/env1/lib/python3.5/site-packages/xgboost-0.6-py3.5.egg/xgboost/sklearn.py:203: DeprecationWarning: The seed parameter is deprecated as of version .6.Please use random_state instead.seed is deprecated.\n",
      "  'seed is deprecated.', DeprecationWarning)\n",
      "/Users/kosuke/.virtualenvs/env1/lib/python3.5/site-packages/xgboost-0.6-py3.5.egg/xgboost/sklearn.py:210: DeprecationWarning: The nthread parameter is deprecated as of version .6.Please use n_jobs instead.nthread is deprecated.\n",
      "  'nthread is deprecated.', DeprecationWarning)\n",
      "/Users/kosuke/.virtualenvs/env1/lib/python3.5/site-packages/xgboost-0.6-py3.5.egg/xgboost/sklearn.py:203: DeprecationWarning: The seed parameter is deprecated as of version .6.Please use random_state instead.seed is deprecated.\n",
      "  'seed is deprecated.', DeprecationWarning)\n",
      "/Users/kosuke/.virtualenvs/env1/lib/python3.5/site-packages/xgboost-0.6-py3.5.egg/xgboost/sklearn.py:210: DeprecationWarning: The nthread parameter is deprecated as of version .6.Please use n_jobs instead.nthread is deprecated.\n",
      "  'nthread is deprecated.', DeprecationWarning)\n",
      "/Users/kosuke/.virtualenvs/env1/lib/python3.5/site-packages/xgboost-0.6-py3.5.egg/xgboost/sklearn.py:203: DeprecationWarning: The seed parameter is deprecated as of version .6.Please use random_state instead.seed is deprecated.\n",
      "  'seed is deprecated.', DeprecationWarning)\n",
      "/Users/kosuke/.virtualenvs/env1/lib/python3.5/site-packages/xgboost-0.6-py3.5.egg/xgboost/sklearn.py:210: DeprecationWarning: The nthread parameter is deprecated as of version .6.Please use n_jobs instead.nthread is deprecated.\n",
      "  'nthread is deprecated.', DeprecationWarning)\n",
      "/Users/kosuke/.virtualenvs/env1/lib/python3.5/site-packages/xgboost-0.6-py3.5.egg/xgboost/sklearn.py:203: DeprecationWarning: The seed parameter is deprecated as of version .6.Please use random_state instead.seed is deprecated.\n",
      "  'seed is deprecated.', DeprecationWarning)\n",
      "/Users/kosuke/.virtualenvs/env1/lib/python3.5/site-packages/xgboost-0.6-py3.5.egg/xgboost/sklearn.py:210: DeprecationWarning: The nthread parameter is deprecated as of version .6.Please use n_jobs instead.nthread is deprecated.\n",
      "  'nthread is deprecated.', DeprecationWarning)\n",
      "/Users/kosuke/.virtualenvs/env1/lib/python3.5/site-packages/xgboost-0.6-py3.5.egg/xgboost/sklearn.py:203: DeprecationWarning: The seed parameter is deprecated as of version .6.Please use random_state instead.seed is deprecated.\n",
      "  'seed is deprecated.', DeprecationWarning)\n",
      "/Users/kosuke/.virtualenvs/env1/lib/python3.5/site-packages/xgboost-0.6-py3.5.egg/xgboost/sklearn.py:210: DeprecationWarning: The nthread parameter is deprecated as of version .6.Please use n_jobs instead.nthread is deprecated.\n",
      "  'nthread is deprecated.', DeprecationWarning)\n",
      "/Users/kosuke/.virtualenvs/env1/lib/python3.5/site-packages/xgboost-0.6-py3.5.egg/xgboost/sklearn.py:203: DeprecationWarning: The seed parameter is deprecated as of version .6.Please use random_state instead.seed is deprecated.\n",
      "  'seed is deprecated.', DeprecationWarning)\n",
      "/Users/kosuke/.virtualenvs/env1/lib/python3.5/site-packages/xgboost-0.6-py3.5.egg/xgboost/sklearn.py:210: DeprecationWarning: The nthread parameter is deprecated as of version .6.Please use n_jobs instead.nthread is deprecated.\n",
      "  'nthread is deprecated.', DeprecationWarning)\n",
      "/Users/kosuke/.virtualenvs/env1/lib/python3.5/site-packages/xgboost-0.6-py3.5.egg/xgboost/sklearn.py:203: DeprecationWarning: The seed parameter is deprecated as of version .6.Please use random_state instead.seed is deprecated.\n",
      "  'seed is deprecated.', DeprecationWarning)\n",
      "/Users/kosuke/.virtualenvs/env1/lib/python3.5/site-packages/xgboost-0.6-py3.5.egg/xgboost/sklearn.py:210: DeprecationWarning: The nthread parameter is deprecated as of version .6.Please use n_jobs instead.nthread is deprecated.\n",
      "  'nthread is deprecated.', DeprecationWarning)\n",
      "/Users/kosuke/.virtualenvs/env1/lib/python3.5/site-packages/xgboost-0.6-py3.5.egg/xgboost/sklearn.py:203: DeprecationWarning: The seed parameter is deprecated as of version .6.Please use random_state instead.seed is deprecated.\n",
      "  'seed is deprecated.', DeprecationWarning)\n",
      "/Users/kosuke/.virtualenvs/env1/lib/python3.5/site-packages/xgboost-0.6-py3.5.egg/xgboost/sklearn.py:210: DeprecationWarning: The nthread parameter is deprecated as of version .6.Please use n_jobs instead.nthread is deprecated.\n",
      "  'nthread is deprecated.', DeprecationWarning)\n"
     ]
    },
    {
     "name": "stdout",
     "output_type": "stream",
     "text": [
      "{'max_depth': 2}\n",
      "0.686308938804\n"
     ]
    }
   ],
   "source": [
    "param_test1 = {\n",
    "    'max_depth':[1,2]\n",
    "}\n",
    "gsearch1 = GridSearchCV(estimator = xgb.XGBClassifier( learning_rate =0.1, n_estimators=10, max_depth=5,\n",
    "                                        min_child_weight=1, gamma=0, subsample=0.8, colsample_bytree=0.8,\n",
    "                                        objective= 'multi:softprob', nthread=4, scale_pos_weight=1, seed=27), \n",
    "                       param_grid = param_test1,n_jobs=4,iid=False, cv=5)\n",
    "gsearch1.fit(bow_reduce, tags)\n",
    "print(gsearch1.best_params_)\n",
    "print(gsearch1.best_score_)"
   ]
  },
  {
   "cell_type": "markdown",
   "metadata": {},
   "source": [
    "## 3.tfidf"
   ]
  },
  {
   "cell_type": "code",
   "execution_count": 11,
   "metadata": {
    "collapsed": true
   },
   "outputs": [],
   "source": [
    "dictionary = corpora.Dictionary(data)"
   ]
  },
  {
   "cell_type": "code",
   "execution_count": 12,
   "metadata": {
    "collapsed": true
   },
   "outputs": [],
   "source": [
    "bow_tfidf = tf_idf_bow(data, dictionary)"
   ]
  },
  {
   "cell_type": "markdown",
   "metadata": {},
   "source": [
    "ナイーブベイズ"
   ]
  },
  {
   "cell_type": "code",
   "execution_count": 6,
   "metadata": {
    "scrolled": true
   },
   "outputs": [
    {
     "name": "stdout",
     "output_type": "stream",
     "text": [
      "{'alpha': 0.10000000000000001}\n",
      "0.867651782846\n"
     ]
    }
   ],
   "source": [
    "params = {'alpha': np.arange(0.1, 2,0.1 )}\n",
    "grid = GridSearchCV(MultinomialNB(), params, cv=5)\n",
    "grid.fit(bow_tfidf, tags)\n",
    "print(grid.best_params_)\n",
    "print(grid.best_score_)"
   ]
  },
  {
   "cell_type": "markdown",
   "metadata": {},
   "source": [
    "ロジスティック回帰"
   ]
  },
  {
   "cell_type": "code",
   "execution_count": 16,
   "metadata": {},
   "outputs": [
    {
     "name": "stdout",
     "output_type": "stream",
     "text": [
      "{'penalty': 'l2', 'C': 81}\n",
      "0.884677160296\n"
     ]
    }
   ],
   "source": [
    "params = [{'penalty': ['l2'], 'C': np.arange(1, 200, 10)}]\n",
    "grid = GridSearchCV(LogisticRegression(), params, cv=5)\n",
    "grid.fit(bow_tfidf, tags)\n",
    "print(grid.best_params_)\n",
    "print(grid.best_score_)"
   ]
  },
  {
   "cell_type": "markdown",
   "metadata": {},
   "source": [
    "SVM"
   ]
  },
  {
   "cell_type": "code",
   "execution_count": 10,
   "metadata": {},
   "outputs": [
    {
     "name": "stdout",
     "output_type": "stream",
     "text": [
      "{'C': 10, 'kernel': 'linear'}\n",
      "0.871827818824\n"
     ]
    }
   ],
   "source": [
    "params = tuned_parameters = [\n",
    "    {'C': [1, 10, 100, 1000], 'kernel': ['linear']},\n",
    "    {'C': [1, 10, 100, 1000], 'kernel': ['rbf'], 'gamma': [0.001, 0.0001]}]\n",
    "grid = GridSearchCV(SVC(), params, cv=5, n_jobs=-1)\n",
    "grid.fit(bow_tfidf, tags)\n",
    "print(grid.best_params_)\n",
    "print(grid.best_score_)"
   ]
  },
  {
   "cell_type": "markdown",
   "metadata": {},
   "source": [
    "ランダムフォレスト"
   ]
  },
  {
   "cell_type": "code",
   "execution_count": 11,
   "metadata": {},
   "outputs": [
    {
     "name": "stdout",
     "output_type": "stream",
     "text": [
      "{'n_estimators': 1000, 'max_features': 'log2'}\n",
      "0.850626405397\n"
     ]
    }
   ],
   "source": [
    "params = {'n_estimators': [5, 10, 20, 30, 50, 100, 300, 1000, 10000], \"max_features\": [\"auto\", \"sqrt\", \"log2\"]}\n",
    "grid = GridSearchCV(RandomForestClassifier(), params, cv=5, n_jobs=-1)\n",
    "grid.fit(bow_tfidf, tags)\n",
    "print(grid.best_params_)\n",
    "print(grid.best_score_)"
   ]
  },
  {
   "cell_type": "markdown",
   "metadata": {
    "collapsed": true
   },
   "source": [
    "## 4.tfidfかつデータ削減"
   ]
  },
  {
   "cell_type": "code",
   "execution_count": 15,
   "metadata": {},
   "outputs": [
    {
     "data": {
      "text/plain": [
       "12870"
      ]
     },
     "execution_count": 15,
     "metadata": {},
     "output_type": "execute_result"
    }
   ],
   "source": [
    "dictionary = corpora.Dictionary(data)\n",
    "dictionary.filter_extremes(no_below=6, no_above=0.6)\n",
    "len(dictionary)"
   ]
  },
  {
   "cell_type": "code",
   "execution_count": 16,
   "metadata": {
    "collapsed": true
   },
   "outputs": [],
   "source": [
    "bow_tfidf_reduce = tf_idf_bow(data, dictionary)"
   ]
  },
  {
   "cell_type": "markdown",
   "metadata": {},
   "source": [
    "ナイーブベイズ"
   ]
  },
  {
   "cell_type": "code",
   "execution_count": 12,
   "metadata": {
    "scrolled": true
   },
   "outputs": [
    {
     "name": "stdout",
     "output_type": "stream",
     "text": [
      "{'alpha': 0.10000000000000001}\n",
      "0.875361387729\n"
     ]
    }
   ],
   "source": [
    "params = {'alpha': np.arange(0.1, 1,0.1 )}\n",
    "grid = GridSearchCV(MultinomialNB(), params, cv=5)\n",
    "grid.fit(bow_tfidf_reduce, tags)\n",
    "print(grid.best_params_)\n",
    "print(grid.best_score_)"
   ]
  },
  {
   "cell_type": "markdown",
   "metadata": {},
   "source": [
    "ロジスティック回帰"
   ]
  },
  {
   "cell_type": "code",
   "execution_count": 55,
   "metadata": {},
   "outputs": [
    {
     "name": "stdout",
     "output_type": "stream",
     "text": [
      "{'C': 10, 'penalty': 'l2'}\n",
      "0.880501124317\n"
     ]
    }
   ],
   "source": [
    "params = {'penalty': ['l2'], 'C': [1,10,100]}\n",
    "grid = GridSearchCV(LogisticRegression(), params, cv=5)\n",
    "grid.fit(bow_tfidf_reduce, tags)\n",
    "print(grid.best_params_)\n",
    "print(grid.best_score_)"
   ]
  },
  {
   "cell_type": "markdown",
   "metadata": {},
   "source": [
    "## <font color=\"DarkTurquoise\">⬆️ベンチマーク！</font>"
   ]
  },
  {
   "cell_type": "markdown",
   "metadata": {},
   "source": [
    "ランダムフォレスト"
   ]
  },
  {
   "cell_type": "code",
   "execution_count": 14,
   "metadata": {},
   "outputs": [
    {
     "name": "stdout",
     "output_type": "stream",
     "text": [
      "{'n_estimators': 1000, 'max_features': 'log2'}\n",
      "0.854802441375\n"
     ]
    }
   ],
   "source": [
    "params = {'n_estimators': [10, 50, 100, 300, 1000, 10000], \"max_features\": [\"auto\", \"sqrt\", \"log2\"]}\n",
    "grid = GridSearchCV(RandomForestClassifier(), params, cv=5, n_jobs=-1)\n",
    "grid.fit(bow_tfidf_reduce, tags)\n",
    "print(grid.best_params_)\n",
    "print(grid.best_score_)"
   ]
  },
  {
   "cell_type": "markdown",
   "metadata": {},
   "source": [
    "SVM"
   ]
  },
  {
   "cell_type": "code",
   "execution_count": 10,
   "metadata": {
    "scrolled": true
   },
   "outputs": [
    {
     "name": "stdout",
     "output_type": "stream",
     "text": [
      "{'kernel': 'linear', 'C': 1}\n",
      "0.892033086635\n"
     ]
    }
   ],
   "source": [
    "params = tuned_parameters = [\n",
    "    {'C': [1, 10, 100], 'kernel': ['linear']},\n",
    "    {'C': [1, 10, 100], 'kernel': ['rbf'], 'gamma': [0.001, 0.0001]}]\n",
    "grid = GridSearchCV(SVC(), params, cv=5, n_jobs=-1)\n",
    "grid.fit(bow_tfidf_reduce, tags)\n",
    "print(grid.best_params_)\n",
    "print(grid.best_score_)"
   ]
  },
  {
   "cell_type": "markdown",
   "metadata": {},
   "source": [
    "xgb"
   ]
  },
  {
   "cell_type": "code",
   "execution_count": 17,
   "metadata": {
    "scrolled": true
   },
   "outputs": [
    {
     "name": "stderr",
     "output_type": "stream",
     "text": [
      "/Users/kosuke/.virtualenvs/env1/lib/python3.5/site-packages/xgboost-0.6-py3.5.egg/xgboost/sklearn.py:203: DeprecationWarning: The seed parameter is deprecated as of version .6.Please use random_state instead.seed is deprecated.\n",
      "  'seed is deprecated.', DeprecationWarning)\n",
      "/Users/kosuke/.virtualenvs/env1/lib/python3.5/site-packages/xgboost-0.6-py3.5.egg/xgboost/sklearn.py:210: DeprecationWarning: The nthread parameter is deprecated as of version .6.Please use n_jobs instead.nthread is deprecated.\n",
      "  'nthread is deprecated.', DeprecationWarning)\n",
      "/Users/kosuke/.virtualenvs/env1/lib/python3.5/site-packages/xgboost-0.6-py3.5.egg/xgboost/sklearn.py:203: DeprecationWarning: The seed parameter is deprecated as of version .6.Please use random_state instead.seed is deprecated.\n",
      "  'seed is deprecated.', DeprecationWarning)\n",
      "/Users/kosuke/.virtualenvs/env1/lib/python3.5/site-packages/xgboost-0.6-py3.5.egg/xgboost/sklearn.py:210: DeprecationWarning: The nthread parameter is deprecated as of version .6.Please use n_jobs instead.nthread is deprecated.\n",
      "  'nthread is deprecated.', DeprecationWarning)\n",
      "/Users/kosuke/.virtualenvs/env1/lib/python3.5/site-packages/xgboost-0.6-py3.5.egg/xgboost/sklearn.py:203: DeprecationWarning: The seed parameter is deprecated as of version .6.Please use random_state instead.seed is deprecated.\n",
      "  'seed is deprecated.', DeprecationWarning)\n",
      "/Users/kosuke/.virtualenvs/env1/lib/python3.5/site-packages/xgboost-0.6-py3.5.egg/xgboost/sklearn.py:210: DeprecationWarning: The nthread parameter is deprecated as of version .6.Please use n_jobs instead.nthread is deprecated.\n",
      "  'nthread is deprecated.', DeprecationWarning)\n",
      "/Users/kosuke/.virtualenvs/env1/lib/python3.5/site-packages/xgboost-0.6-py3.5.egg/xgboost/sklearn.py:203: DeprecationWarning: The seed parameter is deprecated as of version .6.Please use random_state instead.seed is deprecated.\n",
      "  'seed is deprecated.', DeprecationWarning)\n",
      "/Users/kosuke/.virtualenvs/env1/lib/python3.5/site-packages/xgboost-0.6-py3.5.egg/xgboost/sklearn.py:210: DeprecationWarning: The nthread parameter is deprecated as of version .6.Please use n_jobs instead.nthread is deprecated.\n",
      "  'nthread is deprecated.', DeprecationWarning)\n",
      "/Users/kosuke/.virtualenvs/env1/lib/python3.5/site-packages/xgboost-0.6-py3.5.egg/xgboost/sklearn.py:203: DeprecationWarning: The seed parameter is deprecated as of version .6.Please use random_state instead.seed is deprecated.\n",
      "  'seed is deprecated.', DeprecationWarning)\n",
      "/Users/kosuke/.virtualenvs/env1/lib/python3.5/site-packages/xgboost-0.6-py3.5.egg/xgboost/sklearn.py:210: DeprecationWarning: The nthread parameter is deprecated as of version .6.Please use n_jobs instead.nthread is deprecated.\n",
      "  'nthread is deprecated.', DeprecationWarning)\n",
      "/Users/kosuke/.virtualenvs/env1/lib/python3.5/site-packages/xgboost-0.6-py3.5.egg/xgboost/sklearn.py:203: DeprecationWarning: The seed parameter is deprecated as of version .6.Please use random_state instead.seed is deprecated.\n",
      "  'seed is deprecated.', DeprecationWarning)\n",
      "/Users/kosuke/.virtualenvs/env1/lib/python3.5/site-packages/xgboost-0.6-py3.5.egg/xgboost/sklearn.py:210: DeprecationWarning: The nthread parameter is deprecated as of version .6.Please use n_jobs instead.nthread is deprecated.\n",
      "  'nthread is deprecated.', DeprecationWarning)\n",
      "/Users/kosuke/.virtualenvs/env1/lib/python3.5/site-packages/xgboost-0.6-py3.5.egg/xgboost/sklearn.py:203: DeprecationWarning: The seed parameter is deprecated as of version .6.Please use random_state instead.seed is deprecated.\n",
      "  'seed is deprecated.', DeprecationWarning)\n",
      "/Users/kosuke/.virtualenvs/env1/lib/python3.5/site-packages/xgboost-0.6-py3.5.egg/xgboost/sklearn.py:210: DeprecationWarning: The nthread parameter is deprecated as of version .6.Please use n_jobs instead.nthread is deprecated.\n",
      "  'nthread is deprecated.', DeprecationWarning)\n",
      "/Users/kosuke/.virtualenvs/env1/lib/python3.5/site-packages/xgboost-0.6-py3.5.egg/xgboost/sklearn.py:203: DeprecationWarning: The seed parameter is deprecated as of version .6.Please use random_state instead.seed is deprecated.\n",
      "  'seed is deprecated.', DeprecationWarning)\n",
      "/Users/kosuke/.virtualenvs/env1/lib/python3.5/site-packages/xgboost-0.6-py3.5.egg/xgboost/sklearn.py:210: DeprecationWarning: The nthread parameter is deprecated as of version .6.Please use n_jobs instead.nthread is deprecated.\n",
      "  'nthread is deprecated.', DeprecationWarning)\n",
      "/Users/kosuke/.virtualenvs/env1/lib/python3.5/site-packages/xgboost-0.6-py3.5.egg/xgboost/sklearn.py:203: DeprecationWarning: The seed parameter is deprecated as of version .6.Please use random_state instead.seed is deprecated.\n",
      "  'seed is deprecated.', DeprecationWarning)\n",
      "/Users/kosuke/.virtualenvs/env1/lib/python3.5/site-packages/xgboost-0.6-py3.5.egg/xgboost/sklearn.py:210: DeprecationWarning: The nthread parameter is deprecated as of version .6.Please use n_jobs instead.nthread is deprecated.\n",
      "  'nthread is deprecated.', DeprecationWarning)\n",
      "/Users/kosuke/.virtualenvs/env1/lib/python3.5/site-packages/xgboost-0.6-py3.5.egg/xgboost/sklearn.py:203: DeprecationWarning: The seed parameter is deprecated as of version .6.Please use random_state instead.seed is deprecated.\n",
      "  'seed is deprecated.', DeprecationWarning)\n",
      "/Users/kosuke/.virtualenvs/env1/lib/python3.5/site-packages/xgboost-0.6-py3.5.egg/xgboost/sklearn.py:210: DeprecationWarning: The nthread parameter is deprecated as of version .6.Please use n_jobs instead.nthread is deprecated.\n",
      "  'nthread is deprecated.', DeprecationWarning)\n",
      "/Users/kosuke/.virtualenvs/env1/lib/python3.5/site-packages/xgboost-0.6-py3.5.egg/xgboost/sklearn.py:203: DeprecationWarning: The seed parameter is deprecated as of version .6.Please use random_state instead.seed is deprecated.\n",
      "  'seed is deprecated.', DeprecationWarning)\n",
      "/Users/kosuke/.virtualenvs/env1/lib/python3.5/site-packages/xgboost-0.6-py3.5.egg/xgboost/sklearn.py:210: DeprecationWarning: The nthread parameter is deprecated as of version .6.Please use n_jobs instead.nthread is deprecated.\n",
      "  'nthread is deprecated.', DeprecationWarning)\n",
      "/Users/kosuke/.virtualenvs/env1/lib/python3.5/site-packages/xgboost-0.6-py3.5.egg/xgboost/sklearn.py:203: DeprecationWarning: The seed parameter is deprecated as of version .6.Please use random_state instead.seed is deprecated.\n",
      "  'seed is deprecated.', DeprecationWarning)\n",
      "/Users/kosuke/.virtualenvs/env1/lib/python3.5/site-packages/xgboost-0.6-py3.5.egg/xgboost/sklearn.py:210: DeprecationWarning: The nthread parameter is deprecated as of version .6.Please use n_jobs instead.nthread is deprecated.\n",
      "  'nthread is deprecated.', DeprecationWarning)\n",
      "/Users/kosuke/.virtualenvs/env1/lib/python3.5/site-packages/xgboost-0.6-py3.5.egg/xgboost/sklearn.py:203: DeprecationWarning: The seed parameter is deprecated as of version .6.Please use random_state instead.seed is deprecated.\n",
      "  'seed is deprecated.', DeprecationWarning)\n",
      "/Users/kosuke/.virtualenvs/env1/lib/python3.5/site-packages/xgboost-0.6-py3.5.egg/xgboost/sklearn.py:210: DeprecationWarning: The nthread parameter is deprecated as of version .6.Please use n_jobs instead.nthread is deprecated.\n",
      "  'nthread is deprecated.', DeprecationWarning)\n",
      "/Users/kosuke/.virtualenvs/env1/lib/python3.5/site-packages/xgboost-0.6-py3.5.egg/xgboost/sklearn.py:203: DeprecationWarning: The seed parameter is deprecated as of version .6.Please use random_state instead.seed is deprecated.\n",
      "  'seed is deprecated.', DeprecationWarning)\n",
      "/Users/kosuke/.virtualenvs/env1/lib/python3.5/site-packages/xgboost-0.6-py3.5.egg/xgboost/sklearn.py:210: DeprecationWarning: The nthread parameter is deprecated as of version .6.Please use n_jobs instead.nthread is deprecated.\n",
      "  'nthread is deprecated.', DeprecationWarning)\n",
      "/Users/kosuke/.virtualenvs/env1/lib/python3.5/site-packages/xgboost-0.6-py3.5.egg/xgboost/sklearn.py:203: DeprecationWarning: The seed parameter is deprecated as of version .6.Please use random_state instead.seed is deprecated.\n",
      "  'seed is deprecated.', DeprecationWarning)\n",
      "/Users/kosuke/.virtualenvs/env1/lib/python3.5/site-packages/xgboost-0.6-py3.5.egg/xgboost/sklearn.py:210: DeprecationWarning: The nthread parameter is deprecated as of version .6.Please use n_jobs instead.nthread is deprecated.\n",
      "  'nthread is deprecated.', DeprecationWarning)\n"
     ]
    },
    {
     "name": "stderr",
     "output_type": "stream",
     "text": [
      "/Users/kosuke/.virtualenvs/env1/lib/python3.5/site-packages/xgboost-0.6-py3.5.egg/xgboost/sklearn.py:203: DeprecationWarning: The seed parameter is deprecated as of version .6.Please use random_state instead.seed is deprecated.\n",
      "  'seed is deprecated.', DeprecationWarning)\n",
      "/Users/kosuke/.virtualenvs/env1/lib/python3.5/site-packages/xgboost-0.6-py3.5.egg/xgboost/sklearn.py:210: DeprecationWarning: The nthread parameter is deprecated as of version .6.Please use n_jobs instead.nthread is deprecated.\n",
      "  'nthread is deprecated.', DeprecationWarning)\n",
      "/Users/kosuke/.virtualenvs/env1/lib/python3.5/site-packages/xgboost-0.6-py3.5.egg/xgboost/sklearn.py:203: DeprecationWarning: The seed parameter is deprecated as of version .6.Please use random_state instead.seed is deprecated.\n",
      "  'seed is deprecated.', DeprecationWarning)\n",
      "/Users/kosuke/.virtualenvs/env1/lib/python3.5/site-packages/xgboost-0.6-py3.5.egg/xgboost/sklearn.py:210: DeprecationWarning: The nthread parameter is deprecated as of version .6.Please use n_jobs instead.nthread is deprecated.\n",
      "  'nthread is deprecated.', DeprecationWarning)\n",
      "/Users/kosuke/.virtualenvs/env1/lib/python3.5/site-packages/xgboost-0.6-py3.5.egg/xgboost/sklearn.py:203: DeprecationWarning: The seed parameter is deprecated as of version .6.Please use random_state instead.seed is deprecated.\n",
      "  'seed is deprecated.', DeprecationWarning)\n",
      "/Users/kosuke/.virtualenvs/env1/lib/python3.5/site-packages/xgboost-0.6-py3.5.egg/xgboost/sklearn.py:210: DeprecationWarning: The nthread parameter is deprecated as of version .6.Please use n_jobs instead.nthread is deprecated.\n",
      "  'nthread is deprecated.', DeprecationWarning)\n",
      "/Users/kosuke/.virtualenvs/env1/lib/python3.5/site-packages/xgboost-0.6-py3.5.egg/xgboost/sklearn.py:203: DeprecationWarning: The seed parameter is deprecated as of version .6.Please use random_state instead.seed is deprecated.\n",
      "  'seed is deprecated.', DeprecationWarning)\n",
      "/Users/kosuke/.virtualenvs/env1/lib/python3.5/site-packages/xgboost-0.6-py3.5.egg/xgboost/sklearn.py:210: DeprecationWarning: The nthread parameter is deprecated as of version .6.Please use n_jobs instead.nthread is deprecated.\n",
      "  'nthread is deprecated.', DeprecationWarning)\n",
      "/Users/kosuke/.virtualenvs/env1/lib/python3.5/site-packages/xgboost-0.6-py3.5.egg/xgboost/sklearn.py:203: DeprecationWarning: The seed parameter is deprecated as of version .6.Please use random_state instead.seed is deprecated.\n",
      "  'seed is deprecated.', DeprecationWarning)\n",
      "/Users/kosuke/.virtualenvs/env1/lib/python3.5/site-packages/xgboost-0.6-py3.5.egg/xgboost/sklearn.py:210: DeprecationWarning: The nthread parameter is deprecated as of version .6.Please use n_jobs instead.nthread is deprecated.\n",
      "  'nthread is deprecated.', DeprecationWarning)\n",
      "/Users/kosuke/.virtualenvs/env1/lib/python3.5/site-packages/xgboost-0.6-py3.5.egg/xgboost/sklearn.py:203: DeprecationWarning: The seed parameter is deprecated as of version .6.Please use random_state instead.seed is deprecated.\n",
      "  'seed is deprecated.', DeprecationWarning)\n",
      "/Users/kosuke/.virtualenvs/env1/lib/python3.5/site-packages/xgboost-0.6-py3.5.egg/xgboost/sklearn.py:210: DeprecationWarning: The nthread parameter is deprecated as of version .6.Please use n_jobs instead.nthread is deprecated.\n",
      "  'nthread is deprecated.', DeprecationWarning)\n",
      "/Users/kosuke/.virtualenvs/env1/lib/python3.5/site-packages/xgboost-0.6-py3.5.egg/xgboost/sklearn.py:203: DeprecationWarning: The seed parameter is deprecated as of version .6.Please use random_state instead.seed is deprecated.\n",
      "  'seed is deprecated.', DeprecationWarning)\n",
      "/Users/kosuke/.virtualenvs/env1/lib/python3.5/site-packages/xgboost-0.6-py3.5.egg/xgboost/sklearn.py:210: DeprecationWarning: The nthread parameter is deprecated as of version .6.Please use n_jobs instead.nthread is deprecated.\n",
      "  'nthread is deprecated.', DeprecationWarning)\n",
      "/Users/kosuke/.virtualenvs/env1/lib/python3.5/site-packages/xgboost-0.6-py3.5.egg/xgboost/sklearn.py:203: DeprecationWarning: The seed parameter is deprecated as of version .6.Please use random_state instead.seed is deprecated.\n",
      "  'seed is deprecated.', DeprecationWarning)\n",
      "/Users/kosuke/.virtualenvs/env1/lib/python3.5/site-packages/xgboost-0.6-py3.5.egg/xgboost/sklearn.py:210: DeprecationWarning: The nthread parameter is deprecated as of version .6.Please use n_jobs instead.nthread is deprecated.\n",
      "  'nthread is deprecated.', DeprecationWarning)\n",
      "/Users/kosuke/.virtualenvs/env1/lib/python3.5/site-packages/xgboost-0.6-py3.5.egg/xgboost/sklearn.py:203: DeprecationWarning: The seed parameter is deprecated as of version .6.Please use random_state instead.seed is deprecated.\n",
      "  'seed is deprecated.', DeprecationWarning)\n",
      "/Users/kosuke/.virtualenvs/env1/lib/python3.5/site-packages/xgboost-0.6-py3.5.egg/xgboost/sklearn.py:210: DeprecationWarning: The nthread parameter is deprecated as of version .6.Please use n_jobs instead.nthread is deprecated.\n",
      "  'nthread is deprecated.', DeprecationWarning)\n",
      "/Users/kosuke/.virtualenvs/env1/lib/python3.5/site-packages/xgboost-0.6-py3.5.egg/xgboost/sklearn.py:203: DeprecationWarning: The seed parameter is deprecated as of version .6.Please use random_state instead.seed is deprecated.\n",
      "  'seed is deprecated.', DeprecationWarning)\n",
      "/Users/kosuke/.virtualenvs/env1/lib/python3.5/site-packages/xgboost-0.6-py3.5.egg/xgboost/sklearn.py:210: DeprecationWarning: The nthread parameter is deprecated as of version .6.Please use n_jobs instead.nthread is deprecated.\n",
      "  'nthread is deprecated.', DeprecationWarning)\n",
      "/Users/kosuke/.virtualenvs/env1/lib/python3.5/site-packages/xgboost-0.6-py3.5.egg/xgboost/sklearn.py:203: DeprecationWarning: The seed parameter is deprecated as of version .6.Please use random_state instead.seed is deprecated.\n",
      "  'seed is deprecated.', DeprecationWarning)\n",
      "/Users/kosuke/.virtualenvs/env1/lib/python3.5/site-packages/xgboost-0.6-py3.5.egg/xgboost/sklearn.py:210: DeprecationWarning: The nthread parameter is deprecated as of version .6.Please use n_jobs instead.nthread is deprecated.\n",
      "  'nthread is deprecated.', DeprecationWarning)\n",
      "/Users/kosuke/.virtualenvs/env1/lib/python3.5/site-packages/xgboost-0.6-py3.5.egg/xgboost/sklearn.py:203: DeprecationWarning: The seed parameter is deprecated as of version .6.Please use random_state instead.seed is deprecated.\n",
      "  'seed is deprecated.', DeprecationWarning)\n",
      "/Users/kosuke/.virtualenvs/env1/lib/python3.5/site-packages/xgboost-0.6-py3.5.egg/xgboost/sklearn.py:210: DeprecationWarning: The nthread parameter is deprecated as of version .6.Please use n_jobs instead.nthread is deprecated.\n",
      "  'nthread is deprecated.', DeprecationWarning)\n",
      "/Users/kosuke/.virtualenvs/env1/lib/python3.5/site-packages/xgboost-0.6-py3.5.egg/xgboost/sklearn.py:203: DeprecationWarning: The seed parameter is deprecated as of version .6.Please use random_state instead.seed is deprecated.\n",
      "  'seed is deprecated.', DeprecationWarning)\n",
      "/Users/kosuke/.virtualenvs/env1/lib/python3.5/site-packages/xgboost-0.6-py3.5.egg/xgboost/sklearn.py:210: DeprecationWarning: The nthread parameter is deprecated as of version .6.Please use n_jobs instead.nthread is deprecated.\n",
      "  'nthread is deprecated.', DeprecationWarning)\n",
      "/Users/kosuke/.virtualenvs/env1/lib/python3.5/site-packages/xgboost-0.6-py3.5.egg/xgboost/sklearn.py:203: DeprecationWarning: The seed parameter is deprecated as of version .6.Please use random_state instead.seed is deprecated.\n",
      "  'seed is deprecated.', DeprecationWarning)\n",
      "/Users/kosuke/.virtualenvs/env1/lib/python3.5/site-packages/xgboost-0.6-py3.5.egg/xgboost/sklearn.py:210: DeprecationWarning: The nthread parameter is deprecated as of version .6.Please use n_jobs instead.nthread is deprecated.\n",
      "  'nthread is deprecated.', DeprecationWarning)\n",
      "/Users/kosuke/.virtualenvs/env1/lib/python3.5/site-packages/xgboost-0.6-py3.5.egg/xgboost/sklearn.py:203: DeprecationWarning: The seed parameter is deprecated as of version .6.Please use random_state instead.seed is deprecated.\n",
      "  'seed is deprecated.', DeprecationWarning)\n",
      "/Users/kosuke/.virtualenvs/env1/lib/python3.5/site-packages/xgboost-0.6-py3.5.egg/xgboost/sklearn.py:210: DeprecationWarning: The nthread parameter is deprecated as of version .6.Please use n_jobs instead.nthread is deprecated.\n",
      "  'nthread is deprecated.', DeprecationWarning)\n"
     ]
    },
    {
     "name": "stderr",
     "output_type": "stream",
     "text": [
      "/Users/kosuke/.virtualenvs/env1/lib/python3.5/site-packages/xgboost-0.6-py3.5.egg/xgboost/sklearn.py:203: DeprecationWarning: The seed parameter is deprecated as of version .6.Please use random_state instead.seed is deprecated.\n",
      "  'seed is deprecated.', DeprecationWarning)\n",
      "/Users/kosuke/.virtualenvs/env1/lib/python3.5/site-packages/xgboost-0.6-py3.5.egg/xgboost/sklearn.py:210: DeprecationWarning: The nthread parameter is deprecated as of version .6.Please use n_jobs instead.nthread is deprecated.\n",
      "  'nthread is deprecated.', DeprecationWarning)\n",
      "/Users/kosuke/.virtualenvs/env1/lib/python3.5/site-packages/xgboost-0.6-py3.5.egg/xgboost/sklearn.py:203: DeprecationWarning: The seed parameter is deprecated as of version .6.Please use random_state instead.seed is deprecated.\n",
      "  'seed is deprecated.', DeprecationWarning)\n",
      "/Users/kosuke/.virtualenvs/env1/lib/python3.5/site-packages/xgboost-0.6-py3.5.egg/xgboost/sklearn.py:210: DeprecationWarning: The nthread parameter is deprecated as of version .6.Please use n_jobs instead.nthread is deprecated.\n",
      "  'nthread is deprecated.', DeprecationWarning)\n",
      "/Users/kosuke/.virtualenvs/env1/lib/python3.5/site-packages/xgboost-0.6-py3.5.egg/xgboost/sklearn.py:203: DeprecationWarning: The seed parameter is deprecated as of version .6.Please use random_state instead.seed is deprecated.\n",
      "  'seed is deprecated.', DeprecationWarning)\n",
      "/Users/kosuke/.virtualenvs/env1/lib/python3.5/site-packages/xgboost-0.6-py3.5.egg/xgboost/sklearn.py:210: DeprecationWarning: The nthread parameter is deprecated as of version .6.Please use n_jobs instead.nthread is deprecated.\n",
      "  'nthread is deprecated.', DeprecationWarning)\n",
      "/Users/kosuke/.virtualenvs/env1/lib/python3.5/site-packages/xgboost-0.6-py3.5.egg/xgboost/sklearn.py:203: DeprecationWarning: The seed parameter is deprecated as of version .6.Please use random_state instead.seed is deprecated.\n",
      "  'seed is deprecated.', DeprecationWarning)\n",
      "/Users/kosuke/.virtualenvs/env1/lib/python3.5/site-packages/xgboost-0.6-py3.5.egg/xgboost/sklearn.py:210: DeprecationWarning: The nthread parameter is deprecated as of version .6.Please use n_jobs instead.nthread is deprecated.\n",
      "  'nthread is deprecated.', DeprecationWarning)\n",
      "/Users/kosuke/.virtualenvs/env1/lib/python3.5/site-packages/xgboost-0.6-py3.5.egg/xgboost/sklearn.py:203: DeprecationWarning: The seed parameter is deprecated as of version .6.Please use random_state instead.seed is deprecated.\n",
      "  'seed is deprecated.', DeprecationWarning)\n",
      "/Users/kosuke/.virtualenvs/env1/lib/python3.5/site-packages/xgboost-0.6-py3.5.egg/xgboost/sklearn.py:210: DeprecationWarning: The nthread parameter is deprecated as of version .6.Please use n_jobs instead.nthread is deprecated.\n",
      "  'nthread is deprecated.', DeprecationWarning)\n",
      "/Users/kosuke/.virtualenvs/env1/lib/python3.5/site-packages/xgboost-0.6-py3.5.egg/xgboost/sklearn.py:203: DeprecationWarning: The seed parameter is deprecated as of version .6.Please use random_state instead.seed is deprecated.\n",
      "  'seed is deprecated.', DeprecationWarning)\n",
      "/Users/kosuke/.virtualenvs/env1/lib/python3.5/site-packages/xgboost-0.6-py3.5.egg/xgboost/sklearn.py:210: DeprecationWarning: The nthread parameter is deprecated as of version .6.Please use n_jobs instead.nthread is deprecated.\n",
      "  'nthread is deprecated.', DeprecationWarning)\n",
      "/Users/kosuke/.virtualenvs/env1/lib/python3.5/site-packages/xgboost-0.6-py3.5.egg/xgboost/sklearn.py:203: DeprecationWarning: The seed parameter is deprecated as of version .6.Please use random_state instead.seed is deprecated.\n",
      "  'seed is deprecated.', DeprecationWarning)\n",
      "/Users/kosuke/.virtualenvs/env1/lib/python3.5/site-packages/xgboost-0.6-py3.5.egg/xgboost/sklearn.py:210: DeprecationWarning: The nthread parameter is deprecated as of version .6.Please use n_jobs instead.nthread is deprecated.\n",
      "  'nthread is deprecated.', DeprecationWarning)\n",
      "/Users/kosuke/.virtualenvs/env1/lib/python3.5/site-packages/xgboost-0.6-py3.5.egg/xgboost/sklearn.py:203: DeprecationWarning: The seed parameter is deprecated as of version .6.Please use random_state instead.seed is deprecated.\n",
      "  'seed is deprecated.', DeprecationWarning)\n",
      "/Users/kosuke/.virtualenvs/env1/lib/python3.5/site-packages/xgboost-0.6-py3.5.egg/xgboost/sklearn.py:210: DeprecationWarning: The nthread parameter is deprecated as of version .6.Please use n_jobs instead.nthread is deprecated.\n",
      "  'nthread is deprecated.', DeprecationWarning)\n",
      "/Users/kosuke/.virtualenvs/env1/lib/python3.5/site-packages/xgboost-0.6-py3.5.egg/xgboost/sklearn.py:203: DeprecationWarning: The seed parameter is deprecated as of version .6.Please use random_state instead.seed is deprecated.\n",
      "  'seed is deprecated.', DeprecationWarning)\n",
      "/Users/kosuke/.virtualenvs/env1/lib/python3.5/site-packages/xgboost-0.6-py3.5.egg/xgboost/sklearn.py:210: DeprecationWarning: The nthread parameter is deprecated as of version .6.Please use n_jobs instead.nthread is deprecated.\n",
      "  'nthread is deprecated.', DeprecationWarning)\n",
      "/Users/kosuke/.virtualenvs/env1/lib/python3.5/site-packages/xgboost-0.6-py3.5.egg/xgboost/sklearn.py:203: DeprecationWarning: The seed parameter is deprecated as of version .6.Please use random_state instead.seed is deprecated.\n",
      "  'seed is deprecated.', DeprecationWarning)\n",
      "/Users/kosuke/.virtualenvs/env1/lib/python3.5/site-packages/xgboost-0.6-py3.5.egg/xgboost/sklearn.py:210: DeprecationWarning: The nthread parameter is deprecated as of version .6.Please use n_jobs instead.nthread is deprecated.\n",
      "  'nthread is deprecated.', DeprecationWarning)\n",
      "/Users/kosuke/.virtualenvs/env1/lib/python3.5/site-packages/xgboost-0.6-py3.5.egg/xgboost/sklearn.py:203: DeprecationWarning: The seed parameter is deprecated as of version .6.Please use random_state instead.seed is deprecated.\n",
      "  'seed is deprecated.', DeprecationWarning)\n",
      "/Users/kosuke/.virtualenvs/env1/lib/python3.5/site-packages/xgboost-0.6-py3.5.egg/xgboost/sklearn.py:210: DeprecationWarning: The nthread parameter is deprecated as of version .6.Please use n_jobs instead.nthread is deprecated.\n",
      "  'nthread is deprecated.', DeprecationWarning)\n",
      "/Users/kosuke/.virtualenvs/env1/lib/python3.5/site-packages/xgboost-0.6-py3.5.egg/xgboost/sklearn.py:203: DeprecationWarning: The seed parameter is deprecated as of version .6.Please use random_state instead.seed is deprecated.\n",
      "  'seed is deprecated.', DeprecationWarning)\n",
      "/Users/kosuke/.virtualenvs/env1/lib/python3.5/site-packages/xgboost-0.6-py3.5.egg/xgboost/sklearn.py:210: DeprecationWarning: The nthread parameter is deprecated as of version .6.Please use n_jobs instead.nthread is deprecated.\n",
      "  'nthread is deprecated.', DeprecationWarning)\n",
      "/Users/kosuke/.virtualenvs/env1/lib/python3.5/site-packages/xgboost-0.6-py3.5.egg/xgboost/sklearn.py:203: DeprecationWarning: The seed parameter is deprecated as of version .6.Please use random_state instead.seed is deprecated.\n",
      "  'seed is deprecated.', DeprecationWarning)\n",
      "/Users/kosuke/.virtualenvs/env1/lib/python3.5/site-packages/xgboost-0.6-py3.5.egg/xgboost/sklearn.py:210: DeprecationWarning: The nthread parameter is deprecated as of version .6.Please use n_jobs instead.nthread is deprecated.\n",
      "  'nthread is deprecated.', DeprecationWarning)\n",
      "/Users/kosuke/.virtualenvs/env1/lib/python3.5/site-packages/xgboost-0.6-py3.5.egg/xgboost/sklearn.py:203: DeprecationWarning: The seed parameter is deprecated as of version .6.Please use random_state instead.seed is deprecated.\n",
      "  'seed is deprecated.', DeprecationWarning)\n",
      "/Users/kosuke/.virtualenvs/env1/lib/python3.5/site-packages/xgboost-0.6-py3.5.egg/xgboost/sklearn.py:210: DeprecationWarning: The nthread parameter is deprecated as of version .6.Please use n_jobs instead.nthread is deprecated.\n",
      "  'nthread is deprecated.', DeprecationWarning)\n",
      "/Users/kosuke/.virtualenvs/env1/lib/python3.5/site-packages/xgboost-0.6-py3.5.egg/xgboost/sklearn.py:203: DeprecationWarning: The seed parameter is deprecated as of version .6.Please use random_state instead.seed is deprecated.\n",
      "  'seed is deprecated.', DeprecationWarning)\n",
      "/Users/kosuke/.virtualenvs/env1/lib/python3.5/site-packages/xgboost-0.6-py3.5.egg/xgboost/sklearn.py:210: DeprecationWarning: The nthread parameter is deprecated as of version .6.Please use n_jobs instead.nthread is deprecated.\n",
      "  'nthread is deprecated.', DeprecationWarning)\n"
     ]
    },
    {
     "name": "stderr",
     "output_type": "stream",
     "text": [
      "/Users/kosuke/.virtualenvs/env1/lib/python3.5/site-packages/xgboost-0.6-py3.5.egg/xgboost/sklearn.py:203: DeprecationWarning: The seed parameter is deprecated as of version .6.Please use random_state instead.seed is deprecated.\n",
      "  'seed is deprecated.', DeprecationWarning)\n",
      "/Users/kosuke/.virtualenvs/env1/lib/python3.5/site-packages/xgboost-0.6-py3.5.egg/xgboost/sklearn.py:210: DeprecationWarning: The nthread parameter is deprecated as of version .6.Please use n_jobs instead.nthread is deprecated.\n",
      "  'nthread is deprecated.', DeprecationWarning)\n",
      "/Users/kosuke/.virtualenvs/env1/lib/python3.5/site-packages/xgboost-0.6-py3.5.egg/xgboost/sklearn.py:203: DeprecationWarning: The seed parameter is deprecated as of version .6.Please use random_state instead.seed is deprecated.\n",
      "  'seed is deprecated.', DeprecationWarning)\n",
      "/Users/kosuke/.virtualenvs/env1/lib/python3.5/site-packages/xgboost-0.6-py3.5.egg/xgboost/sklearn.py:210: DeprecationWarning: The nthread parameter is deprecated as of version .6.Please use n_jobs instead.nthread is deprecated.\n",
      "  'nthread is deprecated.', DeprecationWarning)\n",
      "/Users/kosuke/.virtualenvs/env1/lib/python3.5/site-packages/xgboost-0.6-py3.5.egg/xgboost/sklearn.py:203: DeprecationWarning: The seed parameter is deprecated as of version .6.Please use random_state instead.seed is deprecated.\n",
      "  'seed is deprecated.', DeprecationWarning)\n",
      "/Users/kosuke/.virtualenvs/env1/lib/python3.5/site-packages/xgboost-0.6-py3.5.egg/xgboost/sklearn.py:210: DeprecationWarning: The nthread parameter is deprecated as of version .6.Please use n_jobs instead.nthread is deprecated.\n",
      "  'nthread is deprecated.', DeprecationWarning)\n",
      "/Users/kosuke/.virtualenvs/env1/lib/python3.5/site-packages/xgboost-0.6-py3.5.egg/xgboost/sklearn.py:203: DeprecationWarning: The seed parameter is deprecated as of version .6.Please use random_state instead.seed is deprecated.\n",
      "  'seed is deprecated.', DeprecationWarning)\n",
      "/Users/kosuke/.virtualenvs/env1/lib/python3.5/site-packages/xgboost-0.6-py3.5.egg/xgboost/sklearn.py:210: DeprecationWarning: The nthread parameter is deprecated as of version .6.Please use n_jobs instead.nthread is deprecated.\n",
      "  'nthread is deprecated.', DeprecationWarning)\n",
      "/Users/kosuke/.virtualenvs/env1/lib/python3.5/site-packages/xgboost-0.6-py3.5.egg/xgboost/sklearn.py:203: DeprecationWarning: The seed parameter is deprecated as of version .6.Please use random_state instead.seed is deprecated.\n",
      "  'seed is deprecated.', DeprecationWarning)\n",
      "/Users/kosuke/.virtualenvs/env1/lib/python3.5/site-packages/xgboost-0.6-py3.5.egg/xgboost/sklearn.py:210: DeprecationWarning: The nthread parameter is deprecated as of version .6.Please use n_jobs instead.nthread is deprecated.\n",
      "  'nthread is deprecated.', DeprecationWarning)\n",
      "/Users/kosuke/.virtualenvs/env1/lib/python3.5/site-packages/xgboost-0.6-py3.5.egg/xgboost/sklearn.py:203: DeprecationWarning: The seed parameter is deprecated as of version .6.Please use random_state instead.seed is deprecated.\n",
      "  'seed is deprecated.', DeprecationWarning)\n",
      "/Users/kosuke/.virtualenvs/env1/lib/python3.5/site-packages/xgboost-0.6-py3.5.egg/xgboost/sklearn.py:210: DeprecationWarning: The nthread parameter is deprecated as of version .6.Please use n_jobs instead.nthread is deprecated.\n",
      "  'nthread is deprecated.', DeprecationWarning)\n",
      "/Users/kosuke/.virtualenvs/env1/lib/python3.5/site-packages/xgboost-0.6-py3.5.egg/xgboost/sklearn.py:203: DeprecationWarning: The seed parameter is deprecated as of version .6.Please use random_state instead.seed is deprecated.\n",
      "  'seed is deprecated.', DeprecationWarning)\n",
      "/Users/kosuke/.virtualenvs/env1/lib/python3.5/site-packages/xgboost-0.6-py3.5.egg/xgboost/sklearn.py:210: DeprecationWarning: The nthread parameter is deprecated as of version .6.Please use n_jobs instead.nthread is deprecated.\n",
      "  'nthread is deprecated.', DeprecationWarning)\n",
      "/Users/kosuke/.virtualenvs/env1/lib/python3.5/site-packages/xgboost-0.6-py3.5.egg/xgboost/sklearn.py:203: DeprecationWarning: The seed parameter is deprecated as of version .6.Please use random_state instead.seed is deprecated.\n",
      "  'seed is deprecated.', DeprecationWarning)\n",
      "/Users/kosuke/.virtualenvs/env1/lib/python3.5/site-packages/xgboost-0.6-py3.5.egg/xgboost/sklearn.py:210: DeprecationWarning: The nthread parameter is deprecated as of version .6.Please use n_jobs instead.nthread is deprecated.\n",
      "  'nthread is deprecated.', DeprecationWarning)\n",
      "/Users/kosuke/.virtualenvs/env1/lib/python3.5/site-packages/xgboost-0.6-py3.5.egg/xgboost/sklearn.py:203: DeprecationWarning: The seed parameter is deprecated as of version .6.Please use random_state instead.seed is deprecated.\n",
      "  'seed is deprecated.', DeprecationWarning)\n",
      "/Users/kosuke/.virtualenvs/env1/lib/python3.5/site-packages/xgboost-0.6-py3.5.egg/xgboost/sklearn.py:210: DeprecationWarning: The nthread parameter is deprecated as of version .6.Please use n_jobs instead.nthread is deprecated.\n",
      "  'nthread is deprecated.', DeprecationWarning)\n",
      "/Users/kosuke/.virtualenvs/env1/lib/python3.5/site-packages/xgboost-0.6-py3.5.egg/xgboost/sklearn.py:203: DeprecationWarning: The seed parameter is deprecated as of version .6.Please use random_state instead.seed is deprecated.\n",
      "  'seed is deprecated.', DeprecationWarning)\n",
      "/Users/kosuke/.virtualenvs/env1/lib/python3.5/site-packages/xgboost-0.6-py3.5.egg/xgboost/sklearn.py:210: DeprecationWarning: The nthread parameter is deprecated as of version .6.Please use n_jobs instead.nthread is deprecated.\n",
      "  'nthread is deprecated.', DeprecationWarning)\n",
      "/Users/kosuke/.virtualenvs/env1/lib/python3.5/site-packages/xgboost-0.6-py3.5.egg/xgboost/sklearn.py:203: DeprecationWarning: The seed parameter is deprecated as of version .6.Please use random_state instead.seed is deprecated.\n",
      "  'seed is deprecated.', DeprecationWarning)\n",
      "/Users/kosuke/.virtualenvs/env1/lib/python3.5/site-packages/xgboost-0.6-py3.5.egg/xgboost/sklearn.py:210: DeprecationWarning: The nthread parameter is deprecated as of version .6.Please use n_jobs instead.nthread is deprecated.\n",
      "  'nthread is deprecated.', DeprecationWarning)\n",
      "/Users/kosuke/.virtualenvs/env1/lib/python3.5/site-packages/xgboost-0.6-py3.5.egg/xgboost/sklearn.py:203: DeprecationWarning: The seed parameter is deprecated as of version .6.Please use random_state instead.seed is deprecated.\n",
      "  'seed is deprecated.', DeprecationWarning)\n",
      "/Users/kosuke/.virtualenvs/env1/lib/python3.5/site-packages/xgboost-0.6-py3.5.egg/xgboost/sklearn.py:210: DeprecationWarning: The nthread parameter is deprecated as of version .6.Please use n_jobs instead.nthread is deprecated.\n",
      "  'nthread is deprecated.', DeprecationWarning)\n",
      "/Users/kosuke/.virtualenvs/env1/lib/python3.5/site-packages/xgboost-0.6-py3.5.egg/xgboost/sklearn.py:203: DeprecationWarning: The seed parameter is deprecated as of version .6.Please use random_state instead.seed is deprecated.\n",
      "  'seed is deprecated.', DeprecationWarning)\n",
      "/Users/kosuke/.virtualenvs/env1/lib/python3.5/site-packages/xgboost-0.6-py3.5.egg/xgboost/sklearn.py:210: DeprecationWarning: The nthread parameter is deprecated as of version .6.Please use n_jobs instead.nthread is deprecated.\n",
      "  'nthread is deprecated.', DeprecationWarning)\n",
      "/Users/kosuke/.virtualenvs/env1/lib/python3.5/site-packages/xgboost-0.6-py3.5.egg/xgboost/sklearn.py:203: DeprecationWarning: The seed parameter is deprecated as of version .6.Please use random_state instead.seed is deprecated.\n",
      "  'seed is deprecated.', DeprecationWarning)\n",
      "/Users/kosuke/.virtualenvs/env1/lib/python3.5/site-packages/xgboost-0.6-py3.5.egg/xgboost/sklearn.py:210: DeprecationWarning: The nthread parameter is deprecated as of version .6.Please use n_jobs instead.nthread is deprecated.\n",
      "  'nthread is deprecated.', DeprecationWarning)\n",
      "/Users/kosuke/.virtualenvs/env1/lib/python3.5/site-packages/xgboost-0.6-py3.5.egg/xgboost/sklearn.py:203: DeprecationWarning: The seed parameter is deprecated as of version .6.Please use random_state instead.seed is deprecated.\n",
      "  'seed is deprecated.', DeprecationWarning)\n",
      "/Users/kosuke/.virtualenvs/env1/lib/python3.5/site-packages/xgboost-0.6-py3.5.egg/xgboost/sklearn.py:210: DeprecationWarning: The nthread parameter is deprecated as of version .6.Please use n_jobs instead.nthread is deprecated.\n",
      "  'nthread is deprecated.', DeprecationWarning)\n"
     ]
    },
    {
     "name": "stderr",
     "output_type": "stream",
     "text": [
      "/Users/kosuke/.virtualenvs/env1/lib/python3.5/site-packages/xgboost-0.6-py3.5.egg/xgboost/sklearn.py:203: DeprecationWarning: The seed parameter is deprecated as of version .6.Please use random_state instead.seed is deprecated.\n",
      "  'seed is deprecated.', DeprecationWarning)\n",
      "/Users/kosuke/.virtualenvs/env1/lib/python3.5/site-packages/xgboost-0.6-py3.5.egg/xgboost/sklearn.py:210: DeprecationWarning: The nthread parameter is deprecated as of version .6.Please use n_jobs instead.nthread is deprecated.\n",
      "  'nthread is deprecated.', DeprecationWarning)\n"
     ]
    },
    {
     "name": "stdout",
     "output_type": "stream",
     "text": [
      "{'max_depth': 9, 'min_child_weight': 3}\n",
      "0.844796454863\n"
     ]
    }
   ],
   "source": [
    "param_test1 = {\n",
    "    'max_depth':range(3, 10, 2),\n",
    "    'min_child_weight':range(1, 6, 2)\n",
    "    \n",
    "}\n",
    "gsearch1 = GridSearchCV(estimator = xgb.XGBClassifier( learning_rate =0.1, n_estimators=100, gamma=0, subsample=0.8, colsample_bytree=0.8,\n",
    "                                        objective= 'multi:softprob', nthread=4, scale_pos_weight=1, seed=27), \n",
    "                       param_grid = param_test1,n_jobs=4,iid=False, cv=5)\n",
    "gsearch1.fit(bow_tfidf_reduce, tags)\n",
    "print(gsearch1.best_params_)\n",
    "print(gsearch1.best_score_)"
   ]
  },
  {
   "cell_type": "markdown",
   "metadata": {},
   "source": [
    "## 5.LSI"
   ]
  },
  {
   "cell_type": "code",
   "execution_count": 28,
   "metadata": {
    "scrolled": true
   },
   "outputs": [
    {
     "data": {
      "text/plain": [
       "18348"
      ]
     },
     "execution_count": 28,
     "metadata": {},
     "output_type": "execute_result"
    }
   ],
   "source": [
    "dictionary = corpora.Dictionary(data)\n",
    "dictionary.filter_extremes(no_below=3, no_above=0.6)\n",
    "len(dictionary)"
   ]
  },
  {
   "cell_type": "code",
   "execution_count": 30,
   "metadata": {
    "collapsed": true
   },
   "outputs": [],
   "source": [
    "bow_lsi = lsi_bow(data, dictionary, num_topics=400, tfidf=None)"
   ]
  },
  {
   "cell_type": "code",
   "execution_count": 31,
   "metadata": {
    "scrolled": true
   },
   "outputs": [
    {
     "name": "stdout",
     "output_type": "stream",
     "text": [
      "{'C': 1, 'penalty': 'l2'}\n",
      "0.847414070029\n"
     ]
    }
   ],
   "source": [
    "params = {'penalty': ['l2'], 'C': [1,10,100]}\n",
    "grid = GridSearchCV(LogisticRegression(), params, cv=5)\n",
    "grid.fit(bow_lsi, tags)\n",
    "print(grid.best_params_)\n",
    "print(grid.best_score_)"
   ]
  },
  {
   "cell_type": "markdown",
   "metadata": {},
   "source": [
    "## 6.LSI tfidf"
   ]
  },
  {
   "cell_type": "code",
   "execution_count": 6,
   "metadata": {},
   "outputs": [
    {
     "data": {
      "text/plain": [
       "12870"
      ]
     },
     "execution_count": 6,
     "metadata": {},
     "output_type": "execute_result"
    }
   ],
   "source": [
    "dictionary = corpora.Dictionary(data)\n",
    "dictionary.filter_extremes(no_below=6, no_above=0.6)\n",
    "len(dictionary)"
   ]
  },
  {
   "cell_type": "code",
   "execution_count": null,
   "metadata": {
    "collapsed": true
   },
   "outputs": [],
   "source": [
    "num_topics = [200, 300, 400, 500]"
   ]
  },
  {
   "cell_type": "code",
   "execution_count": null,
   "metadata": {
    "collapsed": true
   },
   "outputs": [],
   "source": [
    "for num_topic in num_topics:\n",
    "    bow_lsi_tfidf = lsi_bow(data, dictionary, num_topics=num_topic, tfidf=True)\n",
    "    params = {'penalty': ['l2'], 'C': np.arange(1,21,4)}\n",
    "    grid = GridSearchCV(LogisticRegression(), params, cv=5)\n",
    "    grid.fit(bow_lsi_tfidf, tags)\n",
    "    print(grid.best_params_)\n",
    "    print(grid.best_score_)\n",
    "    "
   ]
  },
  {
   "cell_type": "code",
   "execution_count": 7,
   "metadata": {
    "collapsed": true
   },
   "outputs": [],
   "source": [
    "bow_lsi_tfidf = lsi_bow(data, dictionary, num_topics=400, tfidf=True)"
   ]
  },
  {
   "cell_type": "code",
   "execution_count": 61,
   "metadata": {},
   "outputs": [
    {
     "name": "stdout",
     "output_type": "stream",
     "text": [
      "{'C': 13, 'penalty': 'l2'}\n",
      "0.889816896884\n"
     ]
    }
   ],
   "source": [
    "params = {'penalty': ['l2'], 'C': np.arange(1,21,4)}\n",
    "grid = GridSearchCV(LogisticRegression(), params, cv=5)\n",
    "grid.fit(bow_lsi_tfidf, tags)\n",
    "print(grid.best_params_)\n",
    "print(grid.best_score_)"
   ]
  },
  {
   "cell_type": "code",
   "execution_count": 18,
   "metadata": {
    "scrolled": true
   },
   "outputs": [
    {
     "name": "stdout",
     "output_type": "stream",
     "text": [
      "{'n_estimators': 10000, 'max_features': 'sqrt'}\n",
      "0.867973016383\n"
     ]
    }
   ],
   "source": [
    "params = {'n_estimators': [5, 10, 20, 30, 50, 100, 300, 1000, 10000], \"max_features\": [\"auto\", \"sqrt\", \"log2\"]}\n",
    "grid = GridSearchCV(RandomForestClassifier(), params, cv=5, n_jobs=-1)\n",
    "grid.fit(bow_lsi_tfidf, tags)\n",
    "print(grid.best_params_)\n",
    "print(grid.best_score_)"
   ]
  },
  {
   "cell_type": "code",
   "execution_count": 8,
   "metadata": {},
   "outputs": [
    {
     "name": "stdout",
     "output_type": "stream",
     "text": [
      "{'kernel': 'linear', 'C': 1}\n",
      "0.885067479321\n"
     ]
    }
   ],
   "source": [
    "params = tuned_parameters = [\n",
    "    {'C': [1, 10, 100], 'kernel': ['linear']},\n",
    "    {'C': [1, 10, 100], 'kernel': ['rbf'], 'gamma': [0.001, 0.0001]}]\n",
    "grid = GridSearchCV(SVC(), params, cv=5, n_jobs=-1)\n",
    "grid.fit(bow_lsi_tfidf, tags)\n",
    "print(grid.best_params_)\n",
    "print(grid.best_score_)"
   ]
  },
  {
   "cell_type": "code",
   "execution_count": null,
   "metadata": {
    "collapsed": true
   },
   "outputs": [],
   "source": []
  }
 ],
 "metadata": {
  "kernelspec": {
   "display_name": "Django Shell-Plus",
   "language": "python",
   "name": "django_extensions"
  },
  "language_info": {
   "codemirror_mode": {
    "name": "ipython",
    "version": 3
   },
   "file_extension": ".py",
   "mimetype": "text/x-python",
   "name": "python",
   "nbconvert_exporter": "python",
   "pygments_lexer": "ipython3",
   "version": "3.5.0"
  }
 },
 "nbformat": 4,
 "nbformat_minor": 1
}
